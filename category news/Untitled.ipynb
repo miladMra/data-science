{
 "cells": [
  {
   "cell_type": "code",
   "execution_count": 1,
   "id": "d2d6f50c",
   "metadata": {},
   "outputs": [],
   "source": [
    "import pandas as pd\n",
    "from sklearn.model_selection import train_test_split\n",
    "import numpy as np\n",
    "import torch\n",
    "from transformers import AutoTokenizer,BertPreTrainedModel,BertModel,AdamW\n",
    "import torch.nn as nn\n",
    "from torch.utils.data import Dataset, DataLoader\n",
    "from sklearn.preprocessing import LabelEncoder\n",
    "from transformers import get_linear_schedule_with_warmup\n",
    "from torch.nn import functional as F"
   ]
  },
  {
   "cell_type": "code",
   "execution_count": 2,
   "id": "a3c5d754",
   "metadata": {},
   "outputs": [
    {
     "data": {
      "text/html": [
       "<div>\n",
       "<style scoped>\n",
       "    .dataframe tbody tr th:only-of-type {\n",
       "        vertical-align: middle;\n",
       "    }\n",
       "\n",
       "    .dataframe tbody tr th {\n",
       "        vertical-align: top;\n",
       "    }\n",
       "\n",
       "    .dataframe thead th {\n",
       "        text-align: right;\n",
       "    }\n",
       "</style>\n",
       "<table border=\"1\" class=\"dataframe\">\n",
       "  <thead>\n",
       "    <tr style=\"text-align: right;\">\n",
       "      <th></th>\n",
       "      <th>NewsID</th>\n",
       "      <th>Title</th>\n",
       "      <th>Body</th>\n",
       "      <th>Date</th>\n",
       "      <th>Time</th>\n",
       "      <th>Category</th>\n",
       "      <th>Category2</th>\n",
       "    </tr>\n",
       "  </thead>\n",
       "  <tbody>\n",
       "    <tr>\n",
       "      <th>0</th>\n",
       "      <td>843656</td>\n",
       "      <td>\\nوزير علوم درجمع استادان نمونه: سن بازنشستگي ...</td>\n",
       "      <td>\\nوزير علوم در جمع استادان نمونه كشور گفت: از ...</td>\n",
       "      <td>\\n138/5//09</td>\n",
       "      <td>\\n0:9::18</td>\n",
       "      <td>\\nآموزشي-</td>\n",
       "      <td>\\nآموزشي</td>\n",
       "    </tr>\n",
       "    <tr>\n",
       "      <th>1</th>\n",
       "      <td>837144</td>\n",
       "      <td>\\nگردهمايي دانش‌آموختگان موسسه آموزش عالي سوره...</td>\n",
       "      <td>\\nبه گزارش سرويس صنفي آموزشي خبرگزاري دانشجويا...</td>\n",
       "      <td>\\n138/5//09</td>\n",
       "      <td>\\n1:4::11</td>\n",
       "      <td>\\nآموزشي-</td>\n",
       "      <td>\\nآموزشي</td>\n",
       "    </tr>\n",
       "    <tr>\n",
       "      <th>2</th>\n",
       "      <td>436862</td>\n",
       "      <td>\\nنتايج آزمون دوره‌هاي فراگير دانشگاه پيام‌نور...</td>\n",
       "      <td>\\nنتايج آزمون دوره‌هاي فراگير مقاطع كارشناسي و...</td>\n",
       "      <td>\\n138/3//07</td>\n",
       "      <td>\\n1:0::03</td>\n",
       "      <td>\\nآموزشي-</td>\n",
       "      <td>\\nآموزشي</td>\n",
       "    </tr>\n",
       "    <tr>\n",
       "      <th>3</th>\n",
       "      <td>227781</td>\n",
       "      <td>\\nهمايش يكروزه آسيب شناسي مفهوم روابط عمومي در...</td>\n",
       "      <td>\\n</td>\n",
       "      <td>\\n138/2//02</td>\n",
       "      <td>\\n1:3::42</td>\n",
       "      <td>\\nاجتماعي-خانواده-</td>\n",
       "      <td>\\nاجتماعي</td>\n",
       "    </tr>\n",
       "    <tr>\n",
       "      <th>4</th>\n",
       "      <td>174187</td>\n",
       "      <td>\\nوضعيت اقتصادي و ميزان تحصيلات والدين از مهمت...</td>\n",
       "      <td>\\nمحمدتقي علوي يزدي، مجري اين طرح پژوهشي در اي...</td>\n",
       "      <td>\\n138/1//08</td>\n",
       "      <td>\\n1:1::49</td>\n",
       "      <td>\\nآموزشي-</td>\n",
       "      <td>\\nآموزشي</td>\n",
       "    </tr>\n",
       "  </tbody>\n",
       "</table>\n",
       "</div>"
      ],
      "text/plain": [
       "   NewsID                                              Title  \\\n",
       "0  843656  \\nوزير علوم درجمع استادان نمونه: سن بازنشستگي ...   \n",
       "1  837144  \\nگردهمايي دانش‌آموختگان موسسه آموزش عالي سوره...   \n",
       "2  436862  \\nنتايج آزمون دوره‌هاي فراگير دانشگاه پيام‌نور...   \n",
       "3  227781  \\nهمايش يكروزه آسيب شناسي مفهوم روابط عمومي در...   \n",
       "4  174187  \\nوضعيت اقتصادي و ميزان تحصيلات والدين از مهمت...   \n",
       "\n",
       "                                                Body         Date       Time  \\\n",
       "0  \\nوزير علوم در جمع استادان نمونه كشور گفت: از ...  \\n138/5//09  \\n0:9::18   \n",
       "1  \\nبه گزارش سرويس صنفي آموزشي خبرگزاري دانشجويا...  \\n138/5//09  \\n1:4::11   \n",
       "2  \\nنتايج آزمون دوره‌هاي فراگير مقاطع كارشناسي و...  \\n138/3//07  \\n1:0::03   \n",
       "3                                                 \\n  \\n138/2//02  \\n1:3::42   \n",
       "4  \\nمحمدتقي علوي يزدي، مجري اين طرح پژوهشي در اي...  \\n138/1//08  \\n1:1::49   \n",
       "\n",
       "             Category  Category2  \n",
       "0           \\nآموزشي-   \\nآموزشي  \n",
       "1           \\nآموزشي-   \\nآموزشي  \n",
       "2           \\nآموزشي-   \\nآموزشي  \n",
       "3  \\nاجتماعي-خانواده-  \\nاجتماعي  \n",
       "4           \\nآموزشي-   \\nآموزشي  "
      ]
     },
     "execution_count": 2,
     "metadata": {},
     "output_type": "execute_result"
    }
   ],
   "source": [
    "data = pd.read_csv('per.csv')\n",
    "data.head()"
   ]
  },
  {
   "cell_type": "code",
   "execution_count": 3,
   "id": "7c3273fe",
   "metadata": {},
   "outputs": [],
   "source": [
    "dataset = pd.DataFrame(columns=('title_body','category'))\n",
    "for index, row in data.iterrows():\n",
    "    title_body = row['Title'] + ' ' + row['Body']\n",
    "    dataset.loc[index]= {\n",
    "        'title_body' : title_body.replace('\\n',''),\n",
    "        'category' : row['Category2'].replace('\\n','')\n",
    "    }"
   ]
  },
  {
   "cell_type": "code",
   "execution_count": 4,
   "id": "c94931f5",
   "metadata": {},
   "outputs": [
    {
     "data": {
      "text/html": [
       "<div>\n",
       "<style scoped>\n",
       "    .dataframe tbody tr th:only-of-type {\n",
       "        vertical-align: middle;\n",
       "    }\n",
       "\n",
       "    .dataframe tbody tr th {\n",
       "        vertical-align: top;\n",
       "    }\n",
       "\n",
       "    .dataframe thead th {\n",
       "        text-align: right;\n",
       "    }\n",
       "</style>\n",
       "<table border=\"1\" class=\"dataframe\">\n",
       "  <thead>\n",
       "    <tr style=\"text-align: right;\">\n",
       "      <th></th>\n",
       "      <th>title_body</th>\n",
       "      <th>category</th>\n",
       "    </tr>\n",
       "  </thead>\n",
       "  <tbody>\n",
       "    <tr>\n",
       "      <th>0</th>\n",
       "      <td>وزير علوم درجمع استادان نمونه: سن بازنشستگي اس...</td>\n",
       "      <td>آموزشي</td>\n",
       "    </tr>\n",
       "    <tr>\n",
       "      <th>1</th>\n",
       "      <td>گردهمايي دانش‌آموختگان موسسه آموزش عالي سوره ب...</td>\n",
       "      <td>آموزشي</td>\n",
       "    </tr>\n",
       "    <tr>\n",
       "      <th>2</th>\n",
       "      <td>نتايج آزمون دوره‌هاي فراگير دانشگاه پيام‌نور ا...</td>\n",
       "      <td>آموزشي</td>\n",
       "    </tr>\n",
       "    <tr>\n",
       "      <th>3</th>\n",
       "      <td>همايش يكروزه آسيب شناسي مفهوم روابط عمومي در ب...</td>\n",
       "      <td>اجتماعي</td>\n",
       "    </tr>\n",
       "    <tr>\n",
       "      <th>4</th>\n",
       "      <td>وضعيت اقتصادي و ميزان تحصيلات والدين از مهمتري...</td>\n",
       "      <td>آموزشي</td>\n",
       "    </tr>\n",
       "    <tr>\n",
       "      <th>...</th>\n",
       "      <td>...</td>\n",
       "      <td>...</td>\n",
       "    </tr>\n",
       "    <tr>\n",
       "      <th>10994</th>\n",
       "      <td>/گزارش/ «حقي» حق خود را با طلا گرفت به گزارش ا...</td>\n",
       "      <td>ورزشي</td>\n",
       "    </tr>\n",
       "    <tr>\n",
       "      <th>10995</th>\n",
       "      <td>مدير تيم‌هاي ملي كشتي فرنگي: نفرات اول تا سوم ...</td>\n",
       "      <td>ورزشي</td>\n",
       "    </tr>\n",
       "    <tr>\n",
       "      <th>10996</th>\n",
       "      <td>تساوي چلسي و ادامه صدرنشيني آرسنال تساوي اشتوت...</td>\n",
       "      <td>ورزشي</td>\n",
       "    </tr>\n",
       "    <tr>\n",
       "      <th>10997</th>\n",
       "      <td>شكست ايران از پرتغال در آيينه‌ي خبرگزاري‌ها: د...</td>\n",
       "      <td>ورزشي</td>\n",
       "    </tr>\n",
       "    <tr>\n",
       "      <th>10998</th>\n",
       "      <td>هادي شكوري: صدر جدول را تصاحب كنيم ديگر آن را ...</td>\n",
       "      <td>ورزشي</td>\n",
       "    </tr>\n",
       "  </tbody>\n",
       "</table>\n",
       "<p>10999 rows × 2 columns</p>\n",
       "</div>"
      ],
      "text/plain": [
       "                                              title_body category\n",
       "0      وزير علوم درجمع استادان نمونه: سن بازنشستگي اس...   آموزشي\n",
       "1      گردهمايي دانش‌آموختگان موسسه آموزش عالي سوره ب...   آموزشي\n",
       "2      نتايج آزمون دوره‌هاي فراگير دانشگاه پيام‌نور ا...   آموزشي\n",
       "3      همايش يكروزه آسيب شناسي مفهوم روابط عمومي در ب...  اجتماعي\n",
       "4      وضعيت اقتصادي و ميزان تحصيلات والدين از مهمتري...   آموزشي\n",
       "...                                                  ...      ...\n",
       "10994  /گزارش/ «حقي» حق خود را با طلا گرفت به گزارش ا...    ورزشي\n",
       "10995  مدير تيم‌هاي ملي كشتي فرنگي: نفرات اول تا سوم ...    ورزشي\n",
       "10996  تساوي چلسي و ادامه صدرنشيني آرسنال تساوي اشتوت...    ورزشي\n",
       "10997  شكست ايران از پرتغال در آيينه‌ي خبرگزاري‌ها: د...    ورزشي\n",
       "10998  هادي شكوري: صدر جدول را تصاحب كنيم ديگر آن را ...    ورزشي\n",
       "\n",
       "[10999 rows x 2 columns]"
      ]
     },
     "execution_count": 4,
     "metadata": {},
     "output_type": "execute_result"
    }
   ],
   "source": [
    "dataset"
   ]
  },
  {
   "cell_type": "code",
   "execution_count": 5,
   "id": "d91eda20",
   "metadata": {},
   "outputs": [
    {
     "data": {
      "text/html": [
       "<div>\n",
       "<style scoped>\n",
       "    .dataframe tbody tr th:only-of-type {\n",
       "        vertical-align: middle;\n",
       "    }\n",
       "\n",
       "    .dataframe tbody tr th {\n",
       "        vertical-align: top;\n",
       "    }\n",
       "\n",
       "    .dataframe thead th {\n",
       "        text-align: right;\n",
       "    }\n",
       "</style>\n",
       "<table border=\"1\" class=\"dataframe\">\n",
       "  <thead>\n",
       "    <tr style=\"text-align: right;\">\n",
       "      <th></th>\n",
       "      <th>title_body</th>\n",
       "      <th>category</th>\n",
       "      <th>category_l</th>\n",
       "    </tr>\n",
       "  </thead>\n",
       "  <tbody>\n",
       "    <tr>\n",
       "      <th>0</th>\n",
       "      <td>وزير علوم درجمع استادان نمونه: سن بازنشستگي اس...</td>\n",
       "      <td>آموزشي</td>\n",
       "      <td>0</td>\n",
       "    </tr>\n",
       "    <tr>\n",
       "      <th>1</th>\n",
       "      <td>گردهمايي دانش‌آموختگان موسسه آموزش عالي سوره ب...</td>\n",
       "      <td>آموزشي</td>\n",
       "      <td>0</td>\n",
       "    </tr>\n",
       "    <tr>\n",
       "      <th>2</th>\n",
       "      <td>نتايج آزمون دوره‌هاي فراگير دانشگاه پيام‌نور ا...</td>\n",
       "      <td>آموزشي</td>\n",
       "      <td>0</td>\n",
       "    </tr>\n",
       "    <tr>\n",
       "      <th>3</th>\n",
       "      <td>همايش يكروزه آسيب شناسي مفهوم روابط عمومي در ب...</td>\n",
       "      <td>اجتماعي</td>\n",
       "      <td>1</td>\n",
       "    </tr>\n",
       "    <tr>\n",
       "      <th>4</th>\n",
       "      <td>وضعيت اقتصادي و ميزان تحصيلات والدين از مهمتري...</td>\n",
       "      <td>آموزشي</td>\n",
       "      <td>0</td>\n",
       "    </tr>\n",
       "    <tr>\n",
       "      <th>...</th>\n",
       "      <td>...</td>\n",
       "      <td>...</td>\n",
       "      <td>...</td>\n",
       "    </tr>\n",
       "    <tr>\n",
       "      <th>10994</th>\n",
       "      <td>/گزارش/ «حقي» حق خود را با طلا گرفت به گزارش ا...</td>\n",
       "      <td>ورزشي</td>\n",
       "      <td>10</td>\n",
       "    </tr>\n",
       "    <tr>\n",
       "      <th>10995</th>\n",
       "      <td>مدير تيم‌هاي ملي كشتي فرنگي: نفرات اول تا سوم ...</td>\n",
       "      <td>ورزشي</td>\n",
       "      <td>10</td>\n",
       "    </tr>\n",
       "    <tr>\n",
       "      <th>10996</th>\n",
       "      <td>تساوي چلسي و ادامه صدرنشيني آرسنال تساوي اشتوت...</td>\n",
       "      <td>ورزشي</td>\n",
       "      <td>10</td>\n",
       "    </tr>\n",
       "    <tr>\n",
       "      <th>10997</th>\n",
       "      <td>شكست ايران از پرتغال در آيينه‌ي خبرگزاري‌ها: د...</td>\n",
       "      <td>ورزشي</td>\n",
       "      <td>10</td>\n",
       "    </tr>\n",
       "    <tr>\n",
       "      <th>10998</th>\n",
       "      <td>هادي شكوري: صدر جدول را تصاحب كنيم ديگر آن را ...</td>\n",
       "      <td>ورزشي</td>\n",
       "      <td>10</td>\n",
       "    </tr>\n",
       "  </tbody>\n",
       "</table>\n",
       "<p>10999 rows × 3 columns</p>\n",
       "</div>"
      ],
      "text/plain": [
       "                                              title_body category  category_l\n",
       "0      وزير علوم درجمع استادان نمونه: سن بازنشستگي اس...   آموزشي           0\n",
       "1      گردهمايي دانش‌آموختگان موسسه آموزش عالي سوره ب...   آموزشي           0\n",
       "2      نتايج آزمون دوره‌هاي فراگير دانشگاه پيام‌نور ا...   آموزشي           0\n",
       "3      همايش يكروزه آسيب شناسي مفهوم روابط عمومي در ب...  اجتماعي           1\n",
       "4      وضعيت اقتصادي و ميزان تحصيلات والدين از مهمتري...   آموزشي           0\n",
       "...                                                  ...      ...         ...\n",
       "10994  /گزارش/ «حقي» حق خود را با طلا گرفت به گزارش ا...    ورزشي          10\n",
       "10995  مدير تيم‌هاي ملي كشتي فرنگي: نفرات اول تا سوم ...    ورزشي          10\n",
       "10996  تساوي چلسي و ادامه صدرنشيني آرسنال تساوي اشتوت...    ورزشي          10\n",
       "10997  شكست ايران از پرتغال در آيينه‌ي خبرگزاري‌ها: د...    ورزشي          10\n",
       "10998  هادي شكوري: صدر جدول را تصاحب كنيم ديگر آن را ...    ورزشي          10\n",
       "\n",
       "[10999 rows x 3 columns]"
      ]
     },
     "execution_count": 5,
     "metadata": {},
     "output_type": "execute_result"
    }
   ],
   "source": [
    "le = LabelEncoder()\n",
    "dataset['category_l'] = le.fit_transform(dataset['category'])\n",
    "dataset"
   ]
  },
  {
   "cell_type": "code",
   "execution_count": 6,
   "id": "70cff0f6",
   "metadata": {},
   "outputs": [
    {
     "data": {
      "text/plain": [
       "array([[1., 0., 0., ..., 0., 0., 0.],\n",
       "       [1., 0., 0., ..., 0., 0., 0.],\n",
       "       [1., 0., 0., ..., 0., 0., 0.],\n",
       "       ...,\n",
       "       [0., 0., 0., ..., 0., 0., 1.],\n",
       "       [0., 0., 0., ..., 0., 0., 1.],\n",
       "       [0., 0., 0., ..., 0., 0., 1.]])"
      ]
     },
     "execution_count": 6,
     "metadata": {},
     "output_type": "execute_result"
    }
   ],
   "source": [
    "pd.get_dummies(dataset['category'],dtype=float).to_numpy()"
   ]
  },
  {
   "cell_type": "code",
   "execution_count": 7,
   "id": "8fbd8382",
   "metadata": {},
   "outputs": [
    {
     "data": {
      "text/plain": [
       "0         0\n",
       "1         0\n",
       "2         0\n",
       "3         1\n",
       "4         0\n",
       "         ..\n",
       "10994    10\n",
       "10995    10\n",
       "10996    10\n",
       "10997    10\n",
       "10998    10\n",
       "Name: category_l, Length: 10999, dtype: int32"
      ]
     },
     "execution_count": 7,
     "metadata": {},
     "output_type": "execute_result"
    }
   ],
   "source": [
    "dataset['category_l']"
   ]
  },
  {
   "cell_type": "code",
   "execution_count": 8,
   "id": "dbfd994e",
   "metadata": {},
   "outputs": [],
   "source": [
    "train,test = train_test_split(dataset)"
   ]
  },
  {
   "cell_type": "code",
   "execution_count": 9,
   "id": "efefb1dd",
   "metadata": {},
   "outputs": [
    {
     "data": {
      "text/plain": [
       "(8249, 3)"
      ]
     },
     "execution_count": 9,
     "metadata": {},
     "output_type": "execute_result"
    }
   ],
   "source": [
    "train.shape"
   ]
  },
  {
   "cell_type": "code",
   "execution_count": 10,
   "id": "786b5185",
   "metadata": {},
   "outputs": [
    {
     "name": "stdout",
     "output_type": "stream",
     "text": [
      "cpu\n"
     ]
    }
   ],
   "source": [
    "device = torch.device('cuda' if torch.cuda.is_available() else 'cpu')\n",
    "print(device)"
   ]
  },
  {
   "cell_type": "code",
   "execution_count": 11,
   "id": "9d70ccf5",
   "metadata": {},
   "outputs": [],
   "source": [
    "model_path_or_name = \"bert-base-uncased\"\n",
    "tokenizer = AutoTokenizer.from_pretrained(model_path_or_name)"
   ]
  },
  {
   "cell_type": "code",
   "execution_count": 12,
   "id": "db4181ba",
   "metadata": {},
   "outputs": [],
   "source": [
    "class BertForMultipleRegression(BertPreTrainedModel):\n",
    "    def __init__(self,config):\n",
    "        super().__init__(config)\n",
    "        self.bert = BertModel(config)\n",
    "        self.dropout = nn.Dropout(config.hidden_dropout_prob)\n",
    "        self.regressor = nn.Linear(config.hidden_size, 1)\n",
    "        \n",
    "    def forward(self, input_ids, attention_mask):\n",
    "        output = self.bert(input_ids=input_ids,attention_mask=attention_mask)\n",
    "        pooled_output = output[1]\n",
    "        pooled_output = self.dropout(pooled_output)\n",
    "        logits = self.regressor(pooled_output)\n",
    "        return logits"
   ]
  },
  {
   "cell_type": "code",
   "execution_count": 13,
   "id": "8dfc0fc2",
   "metadata": {},
   "outputs": [
    {
     "name": "stderr",
     "output_type": "stream",
     "text": [
      "Some weights of BertForMultipleRegression were not initialized from the model checkpoint at bert-base-uncased and are newly initialized: ['regressor.weight', 'regressor.bias']\n",
      "You should probably TRAIN this model on a down-stream task to be able to use it for predictions and inference.\n"
     ]
    }
   ],
   "source": [
    "model = BertForMultipleRegression.from_pretrained(model_path_or_name)\n",
    "model = model.to(device)"
   ]
  },
  {
   "cell_type": "code",
   "execution_count": 14,
   "id": "5938598b",
   "metadata": {},
   "outputs": [],
   "source": [
    "class CustomDataset(Dataset):\n",
    "    def __init__(self,dataframe,tokenizer,max_length =512):\n",
    "        self.data=[]\n",
    "        self.max_length = max_length\n",
    "        for i, row in dataframe.iterrows():\n",
    "            text = row['title_body']\n",
    "            target = row['category_l']\n",
    "            self.data.append((text,target))\n",
    "        self.tokenizer = tokenizer\n",
    "        \n",
    "    def __len__(self):\n",
    "        return len(self.data)\n",
    "    \n",
    "    def __getitem__(self, idx):\n",
    "        text,target = self.data[idx]\n",
    "        input = self.tokenizer(text, padding='max_length', truncation=True, max_length=512, return_tensors='pt')\n",
    "        input_ids = input['input_ids'].squeeze(0)\n",
    "        attention_mask = input['attention_mask'].squeeze(0)\n",
    "        target = torch.tensor([float(target)])\n",
    "        return input_ids,attention_mask,target"
   ]
  },
  {
   "cell_type": "code",
   "execution_count": 15,
   "id": "01635faa",
   "metadata": {},
   "outputs": [],
   "source": [
    "train_dataset = CustomDataset(train,tokenizer)\n",
    "test_dataset = CustomDataset(test,tokenizer)\n",
    "\n",
    "batch_size=8\n",
    "train_dataloader = DataLoader(train_dataset,batch_size=batch_size,shuffle=True)\n",
    "test_dataloader = DataLoader(test_dataset,batch_size=batch_size,shuffle=True)"
   ]
  },
  {
   "cell_type": "code",
   "execution_count": 16,
   "id": "79d93e1a",
   "metadata": {},
   "outputs": [
    {
     "name": "stderr",
     "output_type": "stream",
     "text": [
      "C:\\ProgramData\\anaconda3\\Lib\\site-packages\\transformers\\optimization.py:411: FutureWarning: This implementation of AdamW is deprecated and will be removed in a future version. Use the PyTorch implementation torch.optim.AdamW instead, or set `no_deprecation_warning=True` to disable this warning\n",
      "  warnings.warn(\n"
     ]
    }
   ],
   "source": [
    "epochs = 10 \n",
    "optimizer = AdamW (model.parameters(),\n",
    "                  lr = 1e-6,\n",
    "                  eps = 1e-8,\n",
    "                )\n",
    "\n",
    "total_steps = len(train_dataloader) * epochs\n",
    "scheduler = get_linear_schedule_with_warmup(optimizer, \n",
    "                                            num_warmup_steps = 0,\n",
    "                                            num_training_steps = total_steps)"
   ]
  },
  {
   "cell_type": "code",
   "execution_count": null,
   "id": "78d9a69a",
   "metadata": {},
   "outputs": [
    {
     "name": "stdout",
     "output_type": "stream",
     "text": [
      "\n",
      "======== Epoch 1 / 10 ========\n",
      "Training...\n",
      "tensor([[ 0.3351],\n",
      "        [ 0.1298],\n",
      "        [ 0.1774],\n",
      "        [ 0.0183],\n",
      "        [ 0.1055],\n",
      "        [ 0.0357],\n",
      "        [ 0.2168],\n",
      "        [-0.0731]], grad_fn=<AddmmBackward0>)\n",
      "[[[4.]\n",
      "  [6.]\n",
      "  [5.]\n",
      "  [6.]\n",
      "  [5.]\n",
      "  [7.]\n",
      "  [4.]\n",
      "  [3.]]]\n",
      "tensor(25.3928, grad_fn=<MseLossBackward0>)\n"
     ]
    }
   ],
   "source": [
    "train_losses = []\n",
    "val_losses = []\n",
    "show_every = 20\n",
    "epochs = 10\n",
    "for epoch_i in range(0,epochs):\n",
    "    store_train_loss = []\n",
    "    store_val_loss = []\n",
    "    print(\"\")\n",
    "    print('======== Epoch {:} / {:} ========'.format(epoch_i + 1, epochs))\n",
    "    print('Training...')\n",
    "    total_loss = 0\n",
    "    model.train()\n",
    "    for step , batch in enumerate(train_dataloader):\n",
    "        batch = tuple(t.to(device) for t in batch)\n",
    "        input_ids, attention_mask, labels = batch\n",
    "        model.zero_grad()\n",
    "        outputs = model(input_ids=input_ids,attention_mask=attention_mask)\n",
    "        print(outputs)\n",
    "        loss = F.mse_loss(outputs,labels)\n",
    "        print(loss)\n",
    "        loss.backward()\n",
    "        torch.nn.utils.clip_grad_norm_(model.parameters(), 1.0)\n",
    "\n",
    "        optimizer.step()\n",
    "        scheduler.step()\n",
    "\n",
    "        store_train_loss.append(loss.item())"
   ]
  },
  {
   "cell_type": "code",
   "execution_count": null,
   "id": "2b08a4f9",
   "metadata": {},
   "outputs": [],
   "source": [
    "train_dataloader"
   ]
  },
  {
   "cell_type": "code",
   "execution_count": null,
   "id": "3fe0a575",
   "metadata": {},
   "outputs": [],
   "source": [
    "dataset"
   ]
  },
  {
   "cell_type": "code",
   "execution_count": null,
   "id": "449da5e3",
   "metadata": {},
   "outputs": [],
   "source": []
  }
 ],
 "metadata": {
  "kernelspec": {
   "display_name": "Python 3 (ipykernel)",
   "language": "python",
   "name": "python3"
  },
  "language_info": {
   "codemirror_mode": {
    "name": "ipython",
    "version": 3
   },
   "file_extension": ".py",
   "mimetype": "text/x-python",
   "name": "python",
   "nbconvert_exporter": "python",
   "pygments_lexer": "ipython3",
   "version": "3.11.5"
  }
 },
 "nbformat": 4,
 "nbformat_minor": 5
}
