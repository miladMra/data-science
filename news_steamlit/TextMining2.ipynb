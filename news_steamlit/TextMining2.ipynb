{
 "cells": [
  {
   "cell_type": "code",
   "execution_count": 1,
   "id": "dbde5532",
   "metadata": {},
   "outputs": [],
   "source": [
    "import pandas as pd"
   ]
  },
  {
   "cell_type": "code",
   "execution_count": 2,
   "id": "fccd24b2",
   "metadata": {},
   "outputs": [
    {
     "data": {
      "text/html": [
       "<div>\n",
       "<style scoped>\n",
       "    .dataframe tbody tr th:only-of-type {\n",
       "        vertical-align: middle;\n",
       "    }\n",
       "\n",
       "    .dataframe tbody tr th {\n",
       "        vertical-align: top;\n",
       "    }\n",
       "\n",
       "    .dataframe thead th {\n",
       "        text-align: right;\n",
       "    }\n",
       "</style>\n",
       "<table border=\"1\" class=\"dataframe\">\n",
       "  <thead>\n",
       "    <tr style=\"text-align: right;\">\n",
       "      <th></th>\n",
       "      <th>NewsID</th>\n",
       "      <th>Title</th>\n",
       "      <th>Body</th>\n",
       "      <th>Date</th>\n",
       "      <th>Time</th>\n",
       "      <th>Category</th>\n",
       "      <th>Category2</th>\n",
       "    </tr>\n",
       "  </thead>\n",
       "  <tbody>\n",
       "    <tr>\n",
       "      <th>0</th>\n",
       "      <td>843656</td>\n",
       "      <td>\\nوزير علوم درجمع استادان نمونه: سن بازنشستگي ...</td>\n",
       "      <td>\\nوزير علوم در جمع استادان نمونه كشور گفت: از ...</td>\n",
       "      <td>\\n138/5//09</td>\n",
       "      <td>\\n0:9::18</td>\n",
       "      <td>\\nآموزشي-</td>\n",
       "      <td>\\nآموزشي</td>\n",
       "    </tr>\n",
       "    <tr>\n",
       "      <th>1</th>\n",
       "      <td>837144</td>\n",
       "      <td>\\nگردهمايي دانش‌آموختگان موسسه آموزش عالي سوره...</td>\n",
       "      <td>\\nبه گزارش سرويس صنفي آموزشي خبرگزاري دانشجويا...</td>\n",
       "      <td>\\n138/5//09</td>\n",
       "      <td>\\n1:4::11</td>\n",
       "      <td>\\nآموزشي-</td>\n",
       "      <td>\\nآموزشي</td>\n",
       "    </tr>\n",
       "    <tr>\n",
       "      <th>2</th>\n",
       "      <td>436862</td>\n",
       "      <td>\\nنتايج آزمون دوره‌هاي فراگير دانشگاه پيام‌نور...</td>\n",
       "      <td>\\nنتايج آزمون دوره‌هاي فراگير مقاطع كارشناسي و...</td>\n",
       "      <td>\\n138/3//07</td>\n",
       "      <td>\\n1:0::03</td>\n",
       "      <td>\\nآموزشي-</td>\n",
       "      <td>\\nآموزشي</td>\n",
       "    </tr>\n",
       "    <tr>\n",
       "      <th>3</th>\n",
       "      <td>227781</td>\n",
       "      <td>\\nهمايش يكروزه آسيب شناسي مفهوم روابط عمومي در...</td>\n",
       "      <td>\\n</td>\n",
       "      <td>\\n138/2//02</td>\n",
       "      <td>\\n1:3::42</td>\n",
       "      <td>\\nاجتماعي-خانواده-</td>\n",
       "      <td>\\nاجتماعي</td>\n",
       "    </tr>\n",
       "    <tr>\n",
       "      <th>4</th>\n",
       "      <td>174187</td>\n",
       "      <td>\\nوضعيت اقتصادي و ميزان تحصيلات والدين از مهمت...</td>\n",
       "      <td>\\nمحمدتقي علوي يزدي، مجري اين طرح پژوهشي در اي...</td>\n",
       "      <td>\\n138/1//08</td>\n",
       "      <td>\\n1:1::49</td>\n",
       "      <td>\\nآموزشي-</td>\n",
       "      <td>\\nآموزشي</td>\n",
       "    </tr>\n",
       "  </tbody>\n",
       "</table>\n",
       "</div>"
      ],
      "text/plain": [
       "   NewsID                                              Title  \\\n",
       "0  843656  \\nوزير علوم درجمع استادان نمونه: سن بازنشستگي ...   \n",
       "1  837144  \\nگردهمايي دانش‌آموختگان موسسه آموزش عالي سوره...   \n",
       "2  436862  \\nنتايج آزمون دوره‌هاي فراگير دانشگاه پيام‌نور...   \n",
       "3  227781  \\nهمايش يكروزه آسيب شناسي مفهوم روابط عمومي در...   \n",
       "4  174187  \\nوضعيت اقتصادي و ميزان تحصيلات والدين از مهمت...   \n",
       "\n",
       "                                                Body         Date       Time  \\\n",
       "0  \\nوزير علوم در جمع استادان نمونه كشور گفت: از ...  \\n138/5//09  \\n0:9::18   \n",
       "1  \\nبه گزارش سرويس صنفي آموزشي خبرگزاري دانشجويا...  \\n138/5//09  \\n1:4::11   \n",
       "2  \\nنتايج آزمون دوره‌هاي فراگير مقاطع كارشناسي و...  \\n138/3//07  \\n1:0::03   \n",
       "3                                                 \\n  \\n138/2//02  \\n1:3::42   \n",
       "4  \\nمحمدتقي علوي يزدي، مجري اين طرح پژوهشي در اي...  \\n138/1//08  \\n1:1::49   \n",
       "\n",
       "             Category  Category2  \n",
       "0           \\nآموزشي-   \\nآموزشي  \n",
       "1           \\nآموزشي-   \\nآموزشي  \n",
       "2           \\nآموزشي-   \\nآموزشي  \n",
       "3  \\nاجتماعي-خانواده-  \\nاجتماعي  \n",
       "4           \\nآموزشي-   \\nآموزشي  "
      ]
     },
     "execution_count": 2,
     "metadata": {},
     "output_type": "execute_result"
    }
   ],
   "source": [
    "data = pd.read_csv('per.csv')\n",
    "data.head()"
   ]
  },
  {
   "cell_type": "code",
   "execution_count": 3,
   "id": "75b5f551",
   "metadata": {},
   "outputs": [
    {
     "data": {
      "text/plain": [
       "1316"
      ]
     },
     "execution_count": 3,
     "metadata": {},
     "output_type": "execute_result"
    }
   ],
   "source": [
    "with open('stopwords.txt') as stopwords_file :\n",
    "    stopwords = stopwords_file.readlines()\n",
    "stopwords = [line.replace('\\n','') for line in stopwords]\n",
    "len(stopwords)"
   ]
  },
  {
   "cell_type": "code",
   "execution_count": 4,
   "id": "f07cd6e3",
   "metadata": {},
   "outputs": [
    {
     "name": "stderr",
     "output_type": "stream",
     "text": [
      "[nltk_data] Downloading package stopwords to C:\\Users\\MILAD-\n",
      "[nltk_data]     CO\\AppData\\Roaming\\nltk_data...\n",
      "[nltk_data]   Package stopwords is already up-to-date!\n"
     ]
    },
    {
     "data": {
      "text/plain": [
       "True"
      ]
     },
     "execution_count": 4,
     "metadata": {},
     "output_type": "execute_result"
    }
   ],
   "source": [
    "import nltk\n",
    "nltk.download('stopwords')"
   ]
  },
  {
   "cell_type": "code",
   "execution_count": 5,
   "id": "3967035e",
   "metadata": {},
   "outputs": [
    {
     "data": {
      "text/plain": [
       "1495"
      ]
     },
     "execution_count": 5,
     "metadata": {},
     "output_type": "execute_result"
    }
   ],
   "source": [
    "nltk_stopwords = nltk.corpus.stopwords.words('english')\n",
    "stopwords.extend(nltk_stopwords)\n",
    "len(stopwords)"
   ]
  },
  {
   "cell_type": "code",
   "execution_count": 6,
   "id": "c1c808ce",
   "metadata": {},
   "outputs": [],
   "source": [
    "import hazm"
   ]
  },
  {
   "cell_type": "code",
   "execution_count": 7,
   "id": "db1beb0d",
   "metadata": {},
   "outputs": [],
   "source": [
    "stemmer = hazm.Stemmer()"
   ]
  },
  {
   "cell_type": "code",
   "execution_count": 8,
   "id": "1827bc45",
   "metadata": {},
   "outputs": [
    {
     "data": {
      "text/plain": [
       "'استاد'"
      ]
     },
     "execution_count": 8,
     "metadata": {},
     "output_type": "execute_result"
    }
   ],
   "source": [
    "stemmer.stem('استادها')"
   ]
  },
  {
   "cell_type": "code",
   "execution_count": 9,
   "id": "08bf067e",
   "metadata": {},
   "outputs": [
    {
     "data": {
      "text/plain": [
       "'رفت#رو'"
      ]
     },
     "execution_count": 9,
     "metadata": {},
     "output_type": "execute_result"
    }
   ],
   "source": [
    "lemmatizer = hazm.Lemmatizer()\n",
    "lemmatizer.lemmatize('می‌روم')"
   ]
  },
  {
   "cell_type": "code",
   "execution_count": 10,
   "id": "26afe774",
   "metadata": {},
   "outputs": [],
   "source": [
    "from hazm import word_tokenize"
   ]
  },
  {
   "cell_type": "code",
   "execution_count": 11,
   "id": "5e5518b7",
   "metadata": {},
   "outputs": [],
   "source": [
    "dataset = pd.DataFrame(columns=('title_body','category'))\n",
    "for index, row in data.iterrows():\n",
    "    title_body = row['Title'] + ' ' + row['Body']\n",
    "    title_body_tokenized = word_tokenize(title_body)\n",
    "    title_body_tokenized_filtered = [w for w in title_body_tokenized if not w in stopwords]\n",
    "    title_body_tokenized_filtered_stemmed = [stemmer.stem(w) for w in title_body_tokenized_filtered]\n",
    "    title_body_tokenized_filtered_lemmatized = [lemmatizer.lemmatize(w).replace('#',' ') for w in title_body_tokenized_filtered]\n",
    "    dataset.loc[index]= {\n",
    "        'title_body' : ' '.join(title_body_tokenized_filtered_lemmatized)+' '+ ' '.join(title_body_tokenized_filtered_stemmed),\n",
    "        'category' : row['Category2'].replace('\\n','')\n",
    "    }"
   ]
  },
  {
   "cell_type": "code",
   "execution_count": 12,
   "id": "1d9bc607",
   "metadata": {},
   "outputs": [
    {
     "data": {
      "text/html": [
       "<div>\n",
       "<style scoped>\n",
       "    .dataframe tbody tr th:only-of-type {\n",
       "        vertical-align: middle;\n",
       "    }\n",
       "\n",
       "    .dataframe tbody tr th {\n",
       "        vertical-align: top;\n",
       "    }\n",
       "\n",
       "    .dataframe thead th {\n",
       "        text-align: right;\n",
       "    }\n",
       "</style>\n",
       "<table border=\"1\" class=\"dataframe\">\n",
       "  <thead>\n",
       "    <tr style=\"text-align: right;\">\n",
       "      <th></th>\n",
       "      <th>title_body</th>\n",
       "      <th>category</th>\n",
       "    </tr>\n",
       "  </thead>\n",
       "  <tbody>\n",
       "    <tr>\n",
       "      <th>0</th>\n",
       "      <td>وزير علوم درجمع استاد نمونه سن بازنشستگي استاد...</td>\n",
       "      <td>آموزشي</td>\n",
       "    </tr>\n",
       "    <tr>\n",
       "      <th>1</th>\n",
       "      <td>گردهمايي دانش‌آموختگان موسسه آموزش عالي سوره ب...</td>\n",
       "      <td>آموزشي</td>\n",
       "    </tr>\n",
       "    <tr>\n",
       "      <th>2</th>\n",
       "      <td>نتايج آزمون دوره‌هاي فراگير دانشگاه پيام‌نور ا...</td>\n",
       "      <td>آموزشي</td>\n",
       "    </tr>\n",
       "    <tr>\n",
       "      <th>3</th>\n",
       "      <td>همايش يكروزه آسيب شناسي مفهوم روابط عمومي در ب...</td>\n",
       "      <td>اجتماعي</td>\n",
       "    </tr>\n",
       "    <tr>\n",
       "      <th>4</th>\n",
       "      <td>وضعيت اقتصادي و ميزان تحصيلات والدين از مهمتري...</td>\n",
       "      <td>آموزشي</td>\n",
       "    </tr>\n",
       "  </tbody>\n",
       "</table>\n",
       "</div>"
      ],
      "text/plain": [
       "                                          title_body category\n",
       "0  وزير علوم درجمع استاد نمونه سن بازنشستگي استاد...   آموزشي\n",
       "1  گردهمايي دانش‌آموختگان موسسه آموزش عالي سوره ب...   آموزشي\n",
       "2  نتايج آزمون دوره‌هاي فراگير دانشگاه پيام‌نور ا...   آموزشي\n",
       "3  همايش يكروزه آسيب شناسي مفهوم روابط عمومي در ب...  اجتماعي\n",
       "4  وضعيت اقتصادي و ميزان تحصيلات والدين از مهمتري...   آموزشي"
      ]
     },
     "execution_count": 12,
     "metadata": {},
     "output_type": "execute_result"
    }
   ],
   "source": [
    "dataset.head()"
   ]
  },
  {
   "cell_type": "code",
   "execution_count": 13,
   "id": "e1458da2",
   "metadata": {},
   "outputs": [],
   "source": [
    "from sklearn.feature_extraction.text import TfidfVectorizer"
   ]
  },
  {
   "cell_type": "code",
   "execution_count": 14,
   "id": "5ff15bf4",
   "metadata": {},
   "outputs": [
    {
     "data": {
      "text/html": [
       "<style>#sk-container-id-1 {color: black;}#sk-container-id-1 pre{padding: 0;}#sk-container-id-1 div.sk-toggleable {background-color: white;}#sk-container-id-1 label.sk-toggleable__label {cursor: pointer;display: block;width: 100%;margin-bottom: 0;padding: 0.3em;box-sizing: border-box;text-align: center;}#sk-container-id-1 label.sk-toggleable__label-arrow:before {content: \"▸\";float: left;margin-right: 0.25em;color: #696969;}#sk-container-id-1 label.sk-toggleable__label-arrow:hover:before {color: black;}#sk-container-id-1 div.sk-estimator:hover label.sk-toggleable__label-arrow:before {color: black;}#sk-container-id-1 div.sk-toggleable__content {max-height: 0;max-width: 0;overflow: hidden;text-align: left;background-color: #f0f8ff;}#sk-container-id-1 div.sk-toggleable__content pre {margin: 0.2em;color: black;border-radius: 0.25em;background-color: #f0f8ff;}#sk-container-id-1 input.sk-toggleable__control:checked~div.sk-toggleable__content {max-height: 200px;max-width: 100%;overflow: auto;}#sk-container-id-1 input.sk-toggleable__control:checked~label.sk-toggleable__label-arrow:before {content: \"▾\";}#sk-container-id-1 div.sk-estimator input.sk-toggleable__control:checked~label.sk-toggleable__label {background-color: #d4ebff;}#sk-container-id-1 div.sk-label input.sk-toggleable__control:checked~label.sk-toggleable__label {background-color: #d4ebff;}#sk-container-id-1 input.sk-hidden--visually {border: 0;clip: rect(1px 1px 1px 1px);clip: rect(1px, 1px, 1px, 1px);height: 1px;margin: -1px;overflow: hidden;padding: 0;position: absolute;width: 1px;}#sk-container-id-1 div.sk-estimator {font-family: monospace;background-color: #f0f8ff;border: 1px dotted black;border-radius: 0.25em;box-sizing: border-box;margin-bottom: 0.5em;}#sk-container-id-1 div.sk-estimator:hover {background-color: #d4ebff;}#sk-container-id-1 div.sk-parallel-item::after {content: \"\";width: 100%;border-bottom: 1px solid gray;flex-grow: 1;}#sk-container-id-1 div.sk-label:hover label.sk-toggleable__label {background-color: #d4ebff;}#sk-container-id-1 div.sk-serial::before {content: \"\";position: absolute;border-left: 1px solid gray;box-sizing: border-box;top: 0;bottom: 0;left: 50%;z-index: 0;}#sk-container-id-1 div.sk-serial {display: flex;flex-direction: column;align-items: center;background-color: white;padding-right: 0.2em;padding-left: 0.2em;position: relative;}#sk-container-id-1 div.sk-item {position: relative;z-index: 1;}#sk-container-id-1 div.sk-parallel {display: flex;align-items: stretch;justify-content: center;background-color: white;position: relative;}#sk-container-id-1 div.sk-item::before, #sk-container-id-1 div.sk-parallel-item::before {content: \"\";position: absolute;border-left: 1px solid gray;box-sizing: border-box;top: 0;bottom: 0;left: 50%;z-index: -1;}#sk-container-id-1 div.sk-parallel-item {display: flex;flex-direction: column;z-index: 1;position: relative;background-color: white;}#sk-container-id-1 div.sk-parallel-item:first-child::after {align-self: flex-end;width: 50%;}#sk-container-id-1 div.sk-parallel-item:last-child::after {align-self: flex-start;width: 50%;}#sk-container-id-1 div.sk-parallel-item:only-child::after {width: 0;}#sk-container-id-1 div.sk-dashed-wrapped {border: 1px dashed gray;margin: 0 0.4em 0.5em 0.4em;box-sizing: border-box;padding-bottom: 0.4em;background-color: white;}#sk-container-id-1 div.sk-label label {font-family: monospace;font-weight: bold;display: inline-block;line-height: 1.2em;}#sk-container-id-1 div.sk-label-container {text-align: center;}#sk-container-id-1 div.sk-container {/* jupyter's `normalize.less` sets `[hidden] { display: none; }` but bootstrap.min.css set `[hidden] { display: none !important; }` so we also need the `!important` here to be able to override the default hidden behavior on the sphinx rendered scikit-learn.org. See: https://github.com/scikit-learn/scikit-learn/issues/21755 */display: inline-block !important;position: relative;}#sk-container-id-1 div.sk-text-repr-fallback {display: none;}</style><div id=\"sk-container-id-1\" class=\"sk-top-container\"><div class=\"sk-text-repr-fallback\"><pre>TfidfVectorizer(ngram_range=(1, 2))</pre><b>In a Jupyter environment, please rerun this cell to show the HTML representation or trust the notebook. <br />On GitHub, the HTML representation is unable to render, please try loading this page with nbviewer.org.</b></div><div class=\"sk-container\" hidden><div class=\"sk-item\"><div class=\"sk-estimator sk-toggleable\"><input class=\"sk-toggleable__control sk-hidden--visually\" id=\"sk-estimator-id-1\" type=\"checkbox\" checked><label for=\"sk-estimator-id-1\" class=\"sk-toggleable__label sk-toggleable__label-arrow\">TfidfVectorizer</label><div class=\"sk-toggleable__content\"><pre>TfidfVectorizer(ngram_range=(1, 2))</pre></div></div></div></div></div>"
      ],
      "text/plain": [
       "TfidfVectorizer(ngram_range=(1, 2))"
      ]
     },
     "execution_count": 14,
     "metadata": {},
     "output_type": "execute_result"
    }
   ],
   "source": [
    "vectorizer = TfidfVectorizer(ngram_range=(1,2))\n",
    "vectorizer.fit(dataset.title_body)"
   ]
  },
  {
   "cell_type": "code",
   "execution_count": 15,
   "id": "9de22d40",
   "metadata": {},
   "outputs": [],
   "source": [
    "import pickle\n",
    "with open('lion_v.jsdh','wb') as f:\n",
    "    pickle.dump(vectorizer,f)"
   ]
  },
  {
   "cell_type": "code",
   "execution_count": 16,
   "id": "e0ed1e9f",
   "metadata": {},
   "outputs": [],
   "source": [
    "X = vectorizer.transform(dataset.title_body)"
   ]
  },
  {
   "cell_type": "code",
   "execution_count": 17,
   "id": "e80faeff",
   "metadata": {},
   "outputs": [
    {
     "data": {
      "text/plain": [
       "<10999x1754943 sparse matrix of type '<class 'numpy.float64'>'\n",
       "\twith 8000883 stored elements in Compressed Sparse Row format>"
      ]
     },
     "execution_count": 17,
     "metadata": {},
     "output_type": "execute_result"
    }
   ],
   "source": [
    "X"
   ]
  },
  {
   "cell_type": "code",
   "execution_count": 18,
   "id": "dd4248ee",
   "metadata": {},
   "outputs": [],
   "source": [
    "from sklearn.preprocessing import LabelEncoder"
   ]
  },
  {
   "cell_type": "code",
   "execution_count": 19,
   "id": "9f689c1e",
   "metadata": {},
   "outputs": [
    {
     "data": {
      "text/plain": [
       "array([ 0,  0,  0, ..., 10, 10, 10])"
      ]
     },
     "execution_count": 19,
     "metadata": {},
     "output_type": "execute_result"
    }
   ],
   "source": [
    "le = LabelEncoder()\n",
    "Y = le.fit_transform(dataset.category)\n",
    "Y"
   ]
  },
  {
   "cell_type": "code",
   "execution_count": 20,
   "id": "173e893a",
   "metadata": {},
   "outputs": [],
   "source": [
    "with open('lion_le.jsdh','wb') as f:\n",
    "    pickle.dump(le,f)"
   ]
  },
  {
   "cell_type": "code",
   "execution_count": 21,
   "id": "6a6ecac2",
   "metadata": {},
   "outputs": [],
   "source": [
    "import numpy as np"
   ]
  },
  {
   "cell_type": "code",
   "execution_count": 22,
   "id": "86762f52",
   "metadata": {},
   "outputs": [
    {
     "data": {
      "text/plain": [
       "array(['آموزشي', 'اجتماعي', 'اقتصادي', 'بهداشتي', 'تاريخي', 'سياسي',\n",
       "       'علمي', 'فرهنگي', 'فقه و حقوق', 'مذهبي', 'ورزشي'], dtype=object)"
      ]
     },
     "execution_count": 22,
     "metadata": {},
     "output_type": "execute_result"
    }
   ],
   "source": [
    "np.unique(dataset.category)"
   ]
  },
  {
   "cell_type": "code",
   "execution_count": 23,
   "id": "7e450490",
   "metadata": {},
   "outputs": [
    {
     "data": {
      "text/plain": [
       "array([ 0,  1,  2,  3,  4,  5,  6,  7,  8,  9, 10])"
      ]
     },
     "execution_count": 23,
     "metadata": {},
     "output_type": "execute_result"
    }
   ],
   "source": [
    "np.unique(Y)"
   ]
  },
  {
   "cell_type": "code",
   "execution_count": 24,
   "id": "1c8bc242",
   "metadata": {},
   "outputs": [
    {
     "data": {
      "text/plain": [
       "10999"
      ]
     },
     "execution_count": 24,
     "metadata": {},
     "output_type": "execute_result"
    }
   ],
   "source": [
    "len(Y)"
   ]
  },
  {
   "cell_type": "code",
   "execution_count": 25,
   "id": "2b6c1ac9",
   "metadata": {},
   "outputs": [],
   "source": [
    "from sklearn.model_selection import train_test_split"
   ]
  },
  {
   "cell_type": "code",
   "execution_count": 26,
   "id": "9e3722c4",
   "metadata": {},
   "outputs": [],
   "source": [
    "X_train, X_test, y_train, y_test = train_test_split(X,Y)"
   ]
  },
  {
   "cell_type": "code",
   "execution_count": 27,
   "id": "df30610e",
   "metadata": {},
   "outputs": [],
   "source": [
    "from sklearn import svm"
   ]
  },
  {
   "cell_type": "code",
   "execution_count": 28,
   "id": "2a09fd68",
   "metadata": {},
   "outputs": [
    {
     "data": {
      "text/plain": [
       "0.8429090909090909"
      ]
     },
     "execution_count": 28,
     "metadata": {},
     "output_type": "execute_result"
    }
   ],
   "source": [
    "svc = svm.SVC()\n",
    "svc.fit(X_train,y_train)\n",
    "svc.score(X_test,y_test)"
   ]
  },
  {
   "cell_type": "code",
   "execution_count": 29,
   "id": "6056a2d7",
   "metadata": {},
   "outputs": [],
   "source": [
    "with open('lion_svc.jsdh','wb') as f:\n",
    "    pickle.dump(svc,f)"
   ]
  },
  {
   "cell_type": "code",
   "execution_count": 30,
   "id": "fef7c3a4",
   "metadata": {},
   "outputs": [],
   "source": [
    "from sklearn.metrics import classification_report,confusion_matrix"
   ]
  },
  {
   "cell_type": "code",
   "execution_count": 31,
   "id": "84de3604",
   "metadata": {},
   "outputs": [
    {
     "name": "stdout",
     "output_type": "stream",
     "text": [
      "              precision    recall  f1-score   support\n",
      "\n",
      "           0       0.84      0.92      0.88       252\n",
      "           1       0.64      0.68      0.66       258\n",
      "           2       0.82      0.81      0.82       242\n",
      "           3       0.84      0.95      0.89       243\n",
      "           4       0.92      0.88      0.90       263\n",
      "           5       0.76      0.74      0.75       227\n",
      "           6       0.80      0.73      0.76       261\n",
      "           7       0.82      0.90      0.86       232\n",
      "           8       0.91      0.87      0.89       260\n",
      "           9       0.97      0.87      0.92       268\n",
      "          10       0.97      0.92      0.95       244\n",
      "\n",
      "    accuracy                           0.84      2750\n",
      "   macro avg       0.85      0.84      0.84      2750\n",
      "weighted avg       0.85      0.84      0.84      2750\n",
      "\n"
     ]
    }
   ],
   "source": [
    "y_pred = svc.predict(X_test)\n",
    "print(classification_report(y_test,y_pred))"
   ]
  },
  {
   "cell_type": "code",
   "execution_count": 32,
   "id": "bd6e1a7e",
   "metadata": {},
   "outputs": [
    {
     "name": "stdout",
     "output_type": "stream",
     "text": [
      "[[232   5   1   0   0   2  11   1   0   0   0]\n",
      " [ 13 176  15   9   3  10  12  12   5   2   1]\n",
      " [  2  20 197   1   0  10   9   3   0   0   0]\n",
      " [  2   2   1 230   0   2   6   0   0   0   0]\n",
      " [  2   8   1   0 232   9   2   6   2   1   0]\n",
      " [  3  15   8   1  10 168   2   6  12   1   1]\n",
      " [ 16   6   6  32   1   2 190   6   1   0   1]\n",
      " [  3   8   1   0   3   1   4 209   0   2   1]\n",
      " [  2   9   4   0   2  11   0   3 227   0   2]\n",
      " [  0  19   4   2   1   3   1   5   1 232   0]\n",
      " [  1   7   2   0   0   3   1   4   1   0 225]]\n"
     ]
    }
   ],
   "source": [
    "print(confusion_matrix(y_test,y_pred))"
   ]
  },
  {
   "cell_type": "code",
   "execution_count": 34,
   "id": "8a29a24c",
   "metadata": {},
   "outputs": [
    {
     "data": {
      "text/plain": [
       "'E:\\\\movie\\\\آموزشی\\\\مهندسی داده\\\\7learn\\\\part1\\\\PROJECT\\\\7learn\\\\application\\\\news'"
      ]
     },
     "execution_count": 34,
     "metadata": {},
     "output_type": "execute_result"
    }
   ],
   "source": [
    "import os\n",
    "os.getcwd()\n"
   ]
  },
  {
   "cell_type": "code",
   "execution_count": 37,
   "id": "a7ace406",
   "metadata": {},
   "outputs": [
    {
     "ename": "NameError",
     "evalue": "name '__file__' is not defined",
     "output_type": "error",
     "traceback": [
      "\u001b[1;31m---------------------------------------------------------------------------\u001b[0m",
      "\u001b[1;31mNameError\u001b[0m                                 Traceback (most recent call last)",
      "Cell \u001b[1;32mIn[37], line 1\u001b[0m\n\u001b[1;32m----> 1\u001b[0m dir_path \u001b[38;5;241m=\u001b[39m os\u001b[38;5;241m.\u001b[39mpath\u001b[38;5;241m.\u001b[39mdirname(os\u001b[38;5;241m.\u001b[39mpath\u001b[38;5;241m.\u001b[39mrealpath(\u001b[38;5;18m__file__\u001b[39m))\n\u001b[0;32m      2\u001b[0m dir_path\n",
      "\u001b[1;31mNameError\u001b[0m: name '__file__' is not defined"
     ]
    }
   ],
   "source": [
    "dir_path = os.path.dirname(os.path.realpath(__file__))\n",
    "dir_path"
   ]
  },
  {
   "cell_type": "code",
   "execution_count": null,
   "id": "f3024fa6",
   "metadata": {},
   "outputs": [],
   "source": []
  }
 ],
 "metadata": {
  "kernelspec": {
   "display_name": "Python 3 (ipykernel)",
   "language": "python",
   "name": "python3"
  },
  "language_info": {
   "codemirror_mode": {
    "name": "ipython",
    "version": 3
   },
   "file_extension": ".py",
   "mimetype": "text/x-python",
   "name": "python",
   "nbconvert_exporter": "python",
   "pygments_lexer": "ipython3",
   "version": "3.11.5"
  }
 },
 "nbformat": 4,
 "nbformat_minor": 5
}
