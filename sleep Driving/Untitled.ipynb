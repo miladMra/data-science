{
 "cells": [
  {
   "cell_type": "code",
   "execution_count": null,
   "id": "efcc4890",
   "metadata": {},
   "outputs": [],
   "source": [
    "import numpy as np\n",
    "from tensorflow.keras.utils import to_categorical\n",
    "import matplotlib.pyplot as plt\n",
    "import random,shutil\n",
    "from tensorflow.keras.layers import Dropout,Dense,Conv2D,BatchNormalization,Flatten,MaxPool2D\n",
    "from tensorflow.keras.models import Sequential,load_model"
   ]
  }
 ],
 "metadata": {
  "kernelspec": {
   "display_name": "Python 3 (ipykernel)",
   "language": "python",
   "name": "python3"
  },
  "language_info": {
   "codemirror_mode": {
    "name": "ipython",
    "version": 3
   },
   "file_extension": ".py",
   "mimetype": "text/x-python",
   "name": "python",
   "nbconvert_exporter": "python",
   "pygments_lexer": "ipython3",
   "version": "3.11.5"
  }
 },
 "nbformat": 4,
 "nbformat_minor": 5
}
